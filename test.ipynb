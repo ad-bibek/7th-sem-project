{
 "cells": [
  {
   "cell_type": "code",
   "execution_count": 1,
   "metadata": {},
   "outputs": [],
   "source": [
    "import numpy as np\n",
    "import pandas as pd\n",
    "from flask import Flask, render_template, request\n",
    "from sklearn.feature_extraction.text import CountVectorizer\n",
    "from sklearn.metrics.pairwise import cosine_similarity\n",
    "import json\n",
    "import bs4 as bs\n",
    "import urllib.request\n",
    "import pickle\n",
    "import requests"
   ]
  },
  {
   "cell_type": "code",
   "execution_count": 2,
   "metadata": {},
   "outputs": [],
   "source": [
    "\n",
    "data = pd.read_csv('main_data.csv')\n",
    "# creating a count matrix\n",
    "cv = CountVectorizer()\n",
    "count_matrix = cv.fit_transform(data['comb'])\n",
    "# creating a similarity score matrix\n",
    "similarity = cosine_similarity(count_matrix)\n"
   ]
  },
  {
   "cell_type": "code",
   "execution_count": 10,
   "metadata": {},
   "outputs": [
    {
     "data": {
      "text/html": [
       "<div>\n",
       "<style scoped>\n",
       "    .dataframe tbody tr th:only-of-type {\n",
       "        vertical-align: middle;\n",
       "    }\n",
       "\n",
       "    .dataframe tbody tr th {\n",
       "        vertical-align: top;\n",
       "    }\n",
       "\n",
       "    .dataframe thead th {\n",
       "        text-align: right;\n",
       "    }\n",
       "</style>\n",
       "<table border=\"1\" class=\"dataframe\">\n",
       "  <thead>\n",
       "    <tr style=\"text-align: right;\">\n",
       "      <th></th>\n",
       "      <th>director_name</th>\n",
       "      <th>actor_1_name</th>\n",
       "      <th>actor_2_name</th>\n",
       "      <th>actor_3_name</th>\n",
       "      <th>genres</th>\n",
       "      <th>movie_title</th>\n",
       "      <th>comb</th>\n",
       "    </tr>\n",
       "  </thead>\n",
       "  <tbody>\n",
       "    <tr>\n",
       "      <th>0</th>\n",
       "      <td>James Cameron</td>\n",
       "      <td>CCH Pounder</td>\n",
       "      <td>Joel David Moore</td>\n",
       "      <td>Wes Studi</td>\n",
       "      <td>Action Adventure Fantasy Sci-Fi</td>\n",
       "      <td>avatar</td>\n",
       "      <td>CCH Pounder Joel David Moore Wes Studi James C...</td>\n",
       "    </tr>\n",
       "    <tr>\n",
       "      <th>1</th>\n",
       "      <td>Gore Verbinski</td>\n",
       "      <td>Johnny Depp</td>\n",
       "      <td>Orlando Bloom</td>\n",
       "      <td>Jack Davenport</td>\n",
       "      <td>Action Adventure Fantasy</td>\n",
       "      <td>pirates of the caribbean: at world's end</td>\n",
       "      <td>Johnny Depp Orlando Bloom Jack Davenport Gore ...</td>\n",
       "    </tr>\n",
       "    <tr>\n",
       "      <th>2</th>\n",
       "      <td>Sam Mendes</td>\n",
       "      <td>Christoph Waltz</td>\n",
       "      <td>Rory Kinnear</td>\n",
       "      <td>Stephanie Sigman</td>\n",
       "      <td>Action Adventure Thriller</td>\n",
       "      <td>spectre</td>\n",
       "      <td>Christoph Waltz Rory Kinnear Stephanie Sigman ...</td>\n",
       "    </tr>\n",
       "    <tr>\n",
       "      <th>3</th>\n",
       "      <td>Christopher Nolan</td>\n",
       "      <td>Tom Hardy</td>\n",
       "      <td>Christian Bale</td>\n",
       "      <td>Joseph Gordon-Levitt</td>\n",
       "      <td>Action Thriller</td>\n",
       "      <td>the dark knight rises</td>\n",
       "      <td>Tom Hardy Christian Bale Joseph Gordon-Levitt ...</td>\n",
       "    </tr>\n",
       "    <tr>\n",
       "      <th>4</th>\n",
       "      <td>Doug Walker</td>\n",
       "      <td>Doug Walker</td>\n",
       "      <td>Rob Walker</td>\n",
       "      <td>unknown</td>\n",
       "      <td>Documentary</td>\n",
       "      <td>star wars: episode vii - the force awakens    ...</td>\n",
       "      <td>Doug Walker Rob Walker unknown Doug Walker Doc...</td>\n",
       "    </tr>\n",
       "    <tr>\n",
       "      <th>...</th>\n",
       "      <td>...</td>\n",
       "      <td>...</td>\n",
       "      <td>...</td>\n",
       "      <td>...</td>\n",
       "      <td>...</td>\n",
       "      <td>...</td>\n",
       "      <td>...</td>\n",
       "    </tr>\n",
       "    <tr>\n",
       "      <th>6005</th>\n",
       "      <td>Joseph Kosinski</td>\n",
       "      <td>Tom Cruise</td>\n",
       "      <td>Miles Teller</td>\n",
       "      <td>Jennifer Connelly</td>\n",
       "      <td>Action Drama</td>\n",
       "      <td>top gun: maverick</td>\n",
       "      <td>Tom Cruise Miles Teller Jennifer Connelly Jose...</td>\n",
       "    </tr>\n",
       "    <tr>\n",
       "      <th>6006</th>\n",
       "      <td>Joel Crawford</td>\n",
       "      <td>Nicolas Cage</td>\n",
       "      <td>Emma Stone</td>\n",
       "      <td>Ryan Reynolds</td>\n",
       "      <td>Animation Adventure Family</td>\n",
       "      <td>the croods 2</td>\n",
       "      <td>Nicolas Cage Emma Stone Ryan Reynolds Joel Cra...</td>\n",
       "    </tr>\n",
       "    <tr>\n",
       "      <th>6007</th>\n",
       "      <td>Liesl Tommy</td>\n",
       "      <td>Jennifer Hudson</td>\n",
       "      <td>Forest Whitaker</td>\n",
       "      <td>Marlon Wayans</td>\n",
       "      <td>Music Drama</td>\n",
       "      <td>respect</td>\n",
       "      <td>Jennifer Hudson Forest Whitaker Marlon Wayans ...</td>\n",
       "    </tr>\n",
       "    <tr>\n",
       "      <th>6008</th>\n",
       "      <td>Ridley Scott</td>\n",
       "      <td>Matt Damon</td>\n",
       "      <td>Adam Driver</td>\n",
       "      <td>Jodie Comer</td>\n",
       "      <td>Drama</td>\n",
       "      <td>the last duel</td>\n",
       "      <td>Matt Damon Adam Driver Jodie Comer Ridley Scot...</td>\n",
       "    </tr>\n",
       "    <tr>\n",
       "      <th>6009</th>\n",
       "      <td>Paul Greengrass</td>\n",
       "      <td>Tom Hanks</td>\n",
       "      <td>Helena Zengel</td>\n",
       "      <td>Neil Sandilands</td>\n",
       "      <td>Drama Western</td>\n",
       "      <td>news of the world</td>\n",
       "      <td>Tom Hanks Helena Zengel Neil Sandilands Paul G...</td>\n",
       "    </tr>\n",
       "  </tbody>\n",
       "</table>\n",
       "<p>6010 rows × 7 columns</p>\n",
       "</div>"
      ],
      "text/plain": [
       "          director_name     actor_1_name      actor_2_name  \\\n",
       "0         James Cameron      CCH Pounder  Joel David Moore   \n",
       "1        Gore Verbinski      Johnny Depp     Orlando Bloom   \n",
       "2            Sam Mendes  Christoph Waltz      Rory Kinnear   \n",
       "3     Christopher Nolan        Tom Hardy    Christian Bale   \n",
       "4           Doug Walker      Doug Walker        Rob Walker   \n",
       "...                 ...              ...               ...   \n",
       "6005    Joseph Kosinski       Tom Cruise      Miles Teller   \n",
       "6006      Joel Crawford     Nicolas Cage        Emma Stone   \n",
       "6007        Liesl Tommy  Jennifer Hudson   Forest Whitaker   \n",
       "6008       Ridley Scott       Matt Damon       Adam Driver   \n",
       "6009    Paul Greengrass        Tom Hanks     Helena Zengel   \n",
       "\n",
       "              actor_3_name                           genres  \\\n",
       "0                Wes Studi  Action Adventure Fantasy Sci-Fi   \n",
       "1           Jack Davenport         Action Adventure Fantasy   \n",
       "2         Stephanie Sigman        Action Adventure Thriller   \n",
       "3     Joseph Gordon-Levitt                  Action Thriller   \n",
       "4                  unknown                      Documentary   \n",
       "...                    ...                              ...   \n",
       "6005     Jennifer Connelly                     Action Drama   \n",
       "6006         Ryan Reynolds       Animation Adventure Family   \n",
       "6007         Marlon Wayans                      Music Drama   \n",
       "6008           Jodie Comer                            Drama   \n",
       "6009       Neil Sandilands                    Drama Western   \n",
       "\n",
       "                                            movie_title  \\\n",
       "0                                                avatar   \n",
       "1              pirates of the caribbean: at world's end   \n",
       "2                                               spectre   \n",
       "3                                 the dark knight rises   \n",
       "4     star wars: episode vii - the force awakens    ...   \n",
       "...                                                 ...   \n",
       "6005                                  top gun: maverick   \n",
       "6006                                       the croods 2   \n",
       "6007                                            respect   \n",
       "6008                                      the last duel   \n",
       "6009                                  news of the world   \n",
       "\n",
       "                                                   comb  \n",
       "0     CCH Pounder Joel David Moore Wes Studi James C...  \n",
       "1     Johnny Depp Orlando Bloom Jack Davenport Gore ...  \n",
       "2     Christoph Waltz Rory Kinnear Stephanie Sigman ...  \n",
       "3     Tom Hardy Christian Bale Joseph Gordon-Levitt ...  \n",
       "4     Doug Walker Rob Walker unknown Doug Walker Doc...  \n",
       "...                                                 ...  \n",
       "6005  Tom Cruise Miles Teller Jennifer Connelly Jose...  \n",
       "6006  Nicolas Cage Emma Stone Ryan Reynolds Joel Cra...  \n",
       "6007  Jennifer Hudson Forest Whitaker Marlon Wayans ...  \n",
       "6008  Matt Damon Adam Driver Jodie Comer Ridley Scot...  \n",
       "6009  Tom Hanks Helena Zengel Neil Sandilands Paul G...  \n",
       "\n",
       "[6010 rows x 7 columns]"
      ]
     },
     "execution_count": 10,
     "metadata": {},
     "output_type": "execute_result"
    }
   ],
   "source": [
    "data"
   ]
  },
  {
   "cell_type": "code",
   "execution_count": 11,
   "metadata": {},
   "outputs": [
    {
     "data": {
      "text/plain": [
       "array([[1.        , 0.24174689, 0.16116459, ..., 0.        , 0.        ,\n",
       "        0.        ],\n",
       "       [0.24174689, 1.        , 0.18181818, ..., 0.        , 0.        ,\n",
       "        0.        ],\n",
       "       [0.16116459, 0.18181818, 1.        , ..., 0.        , 0.        ,\n",
       "        0.        ],\n",
       "       ...,\n",
       "       [0.        , 0.        , 0.        , ..., 1.        , 0.10540926,\n",
       "        0.1       ],\n",
       "       [0.        , 0.        , 0.        , ..., 0.10540926, 1.        ,\n",
       "        0.10540926],\n",
       "       [0.        , 0.        , 0.        , ..., 0.1       , 0.10540926,\n",
       "        1.        ]])"
      ]
     },
     "execution_count": 11,
     "metadata": {},
     "output_type": "execute_result"
    }
   ],
   "source": [
    "similarity"
   ]
  },
  {
   "cell_type": "code",
   "execution_count": 14,
   "metadata": {},
   "outputs": [],
   "source": [
    "with open('ratings.txt') as f:\n",
    "    lines = f.read().splitlines()"
   ]
  },
  {
   "cell_type": "code",
   "execution_count": 19,
   "metadata": {},
   "outputs": [
    {
     "data": {
      "text/plain": [
       "'[3471, 0.4629100498862758]'"
      ]
     },
     "execution_count": 19,
     "metadata": {},
     "output_type": "execute_result"
    }
   ],
   "source": [
    "lines[0]"
   ]
  },
  {
   "cell_type": "code",
   "execution_count": 56,
   "metadata": {},
   "outputs": [
    {
     "data": {
      "text/plain": [
       "1.0"
      ]
     },
     "execution_count": 56,
     "metadata": {},
     "output_type": "execute_result"
    }
   ],
   "source": [
    "with open('rating', 'rb') as fp:\n",
    "    n_list = pickle.load(fp)\n",
    "    n_list = round(n_list[1],5)\n",
    "n_list"
   ]
  },
  {
   "cell_type": "code",
   "execution_count": 23,
   "metadata": {},
   "outputs": [
    {
     "data": {
      "text/plain": [
       "0.4629100498862758"
      ]
     },
     "execution_count": 23,
     "metadata": {},
     "output_type": "execute_result"
    }
   ],
   "source": [
    "n_list[1]"
   ]
  },
  {
   "cell_type": "code",
   "execution_count": 28,
   "metadata": {},
   "outputs": [
    {
     "data": {
      "text/plain": [
       "'little shop of horrors'"
      ]
     },
     "execution_count": 28,
     "metadata": {},
     "output_type": "execute_result"
    }
   ],
   "source": [
    "data['movie_title'][1584]"
   ]
  },
  {
   "cell_type": "code",
   "execution_count": 47,
   "metadata": {},
   "outputs": [
    {
     "data": {
      "text/plain": [
       "[0.43519,\n",
       " 0.36364,\n",
       " 0.36364,\n",
       " 0.35533,\n",
       " 0.34816,\n",
       " 0.34816,\n",
       " 0.34816,\n",
       " 0.34816,\n",
       " 0.3345,\n",
       " 0.3345]"
      ]
     },
     "execution_count": 47,
     "metadata": {},
     "output_type": "execute_result"
    }
   ],
   "source": [
    "with open('static/ratings', 'rb') as fp:\n",
    "    n_list = pickle.load(fp)\n",
    "    n_list = [round(n_list[1],5) for n_list in n_list]\n",
    "n_list"
   ]
  },
  {
   "cell_type": "code",
   "execution_count": 46,
   "metadata": {},
   "outputs": [
    {
     "data": {
      "text/plain": [
       "[(4311, 0.4351941398892446),\n",
       " (3, 0.36363636363636365),\n",
       " (1111, 0.36363636363636365),\n",
       " (1818, 0.3553345272593508),\n",
       " (57, 0.3481553119113957),\n",
       " (1416, 0.3481553119113957),\n",
       " (1462, 0.3481553119113957),\n",
       " (3881, 0.3481553119113957),\n",
       " (822, 0.3344968040028363),\n",
       " (1113, 0.3344968040028363)]"
      ]
     },
     "execution_count": 46,
     "metadata": {},
     "output_type": "execute_result"
    }
   ],
   "source": [
    "with open('static/ratings', 'rb') as fp:\n",
    "    n_list = pickle.load(fp)\n",
    "n_list"
   ]
  },
  {
   "cell_type": "code",
   "execution_count": 41,
   "metadata": {},
   "outputs": [
    {
     "name": "stderr",
     "output_type": "stream",
     "text": [
      "c:\\Users\\Ghost\\anaconda3\\envs\\movie_project\\lib\\site-packages\\sklearn\\base.py:318: UserWarning: Trying to unpickle estimator MultinomialNB from version 0.23.1 when using version 1.2.2. This might lead to breaking code or invalid results. Use at your own risk. For more info please refer to:\n",
      "https://scikit-learn.org/stable/model_persistence.html#security-maintainability-limitations\n",
      "  warnings.warn(\n",
      "C:\\Users\\Ghost\\AppData\\Local\\Temp\\ipykernel_12552\\121990886.py:3: DeprecationWarning: Please use `csr_matrix` from the `scipy.sparse` namespace, the `scipy.sparse.csr` namespace is deprecated.\n",
      "  vectorizer = pickle.load(open('tranform.pkl','rb'))\n",
      "c:\\Users\\Ghost\\anaconda3\\envs\\movie_project\\lib\\site-packages\\sklearn\\base.py:318: UserWarning: Trying to unpickle estimator TfidfTransformer from version 0.23.1 when using version 1.2.2. This might lead to breaking code or invalid results. Use at your own risk. For more info please refer to:\n",
      "https://scikit-learn.org/stable/model_persistence.html#security-maintainability-limitations\n",
      "  warnings.warn(\n",
      "c:\\Users\\Ghost\\anaconda3\\envs\\movie_project\\lib\\site-packages\\sklearn\\base.py:318: UserWarning: Trying to unpickle estimator TfidfVectorizer from version 0.23.1 when using version 1.2.2. This might lead to breaking code or invalid results. Use at your own risk. For more info please refer to:\n",
      "https://scikit-learn.org/stable/model_persistence.html#security-maintainability-limitations\n",
      "  warnings.warn(\n"
     ]
    }
   ],
   "source": [
    "filename = 'nlp_model.pkl'\n",
    "clf = pickle.load(open(filename, 'rb'))\n",
    "vectorizer = pickle.load(open('tranform.pkl','rb'))"
   ]
  },
  {
   "cell_type": "code",
   "execution_count": 71,
   "metadata": {},
   "outputs": [],
   "source": [
    "text = \" Hey this movie is bad.\"\n",
    "text_array = np.array([text])\n",
    "vect = vectorizer.transform(text_array)\n",
    "tf_idf_value = vect.toarray()\n",
    "tf_idf_key = vectorizer.get_feature_names_out()"
   ]
  },
  {
   "cell_type": "code",
   "execution_count": 72,
   "metadata": {},
   "outputs": [],
   "source": [
    "tf_idf_dict = {}\n",
    "tf_idf = []\n",
    "for i in range(len(tf_idf_key)):\n",
    "    tf_idf_dict[tf_idf_key[i]] = tf_idf_value[0][i]\n"
   ]
  },
  {
   "cell_type": "code",
   "execution_count": 77,
   "metadata": {},
   "outputs": [
    {
     "name": "stdout",
     "output_type": "stream",
     "text": [
      "{'hey': 0.6818806870803984, 'bad': 0.671534394266108, 'movie': 0.2899660081878823, '00': 0.0, '007': 0.0, '10': 0.0, '10pm': 0.0, '12': 0.0, '16': 0.0, '17': 0.0, '1984': 0.0, '1st': 0.0, '200': 0.0, '2007': 0.0, '286': 0.0, '2nd': 0.0, '30': 0.0, '31st': 0.0, '33': 0.0, '3333': 0.0}\n"
     ]
    }
   ],
   "source": [
    "from itertools import islice\n",
    "tf_idf_dict\n",
    "my_dict = {'a': 5, 'b': 2, 'c': 10, 'd': 1}\n",
    "\n",
    "sorted_dict = dict(sorted(tf_idf_dict.items(), key=lambda x: x[1],reverse=True))\n",
    "sliced_dict = dict(islice(sorted_dict.items(),20))\n",
    "print(sliced_dict)"
   ]
  },
  {
   "cell_type": "code",
   "execution_count": 67,
   "metadata": {},
   "outputs": [],
   "source": [
    "reviews_list = []\n",
    "reviews_list.append(text)"
   ]
  },
  {
   "cell_type": "code",
   "execution_count": 70,
   "metadata": {},
   "outputs": [
    {
     "name": "stdout",
     "output_type": "stream",
     "text": [
      "{'c': 10, 'a': 5, 'b': 2, 'd': 1}\n"
     ]
    }
   ],
   "source": [
    "my_dict = {'a': 5, 'b': 2, 'c': 10, 'd': 1}\n",
    "\n",
    "sorted_dict = dict(sorted(my_dict.items(), key=lambda x: x[1],reverse=True))\n",
    "\n",
    "print(sorted_dict)"
   ]
  },
  {
   "cell_type": "code",
   "execution_count": 59,
   "metadata": {},
   "outputs": [
    {
     "data": {
      "text/plain": [
       "{0: {'hey', 'nice'}}"
      ]
     },
     "execution_count": 59,
     "metadata": {},
     "output_type": "execute_result"
    }
   ],
   "source": [
    "test_dict"
   ]
  },
  {
   "cell_type": "code",
   "execution_count": 78,
   "metadata": {},
   "outputs": [
    {
     "data": {
      "text/plain": [
       "array(['00', '007', '10', ..., 'yuh', 'zach', 'zen'], dtype=object)"
      ]
     },
     "execution_count": 78,
     "metadata": {},
     "output_type": "execute_result"
    }
   ],
   "source": [
    "vectorizer.get_feature_names_out()"
   ]
  },
  {
   "cell_type": "code",
   "execution_count": null,
   "metadata": {},
   "outputs": [],
   "source": []
  }
 ],
 "metadata": {
  "kernelspec": {
   "display_name": "movie_project",
   "language": "python",
   "name": "python3"
  },
  "language_info": {
   "codemirror_mode": {
    "name": "ipython",
    "version": 3
   },
   "file_extension": ".py",
   "mimetype": "text/x-python",
   "name": "python",
   "nbconvert_exporter": "python",
   "pygments_lexer": "ipython3",
   "version": "3.8.16"
  },
  "orig_nbformat": 4
 },
 "nbformat": 4,
 "nbformat_minor": 2
}
